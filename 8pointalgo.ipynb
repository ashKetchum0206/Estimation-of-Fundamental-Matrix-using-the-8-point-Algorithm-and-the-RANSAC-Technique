{
  "nbformat": 4,
  "nbformat_minor": 0,
  "metadata": {
    "colab": {
      "provenance": []
    },
    "kernelspec": {
      "name": "python3",
      "display_name": "Python 3"
    },
    "language_info": {
      "name": "python"
    },
    "gpuClass": "standard"
  },
  "cells": [
    {
      "cell_type": "code",
      "execution_count": null,
      "metadata": {
        "id": "6gMSzft3K5Q3"
      },
      "outputs": [],
      "source": [
        "import numpy as np\n",
        "from numpy import linalg as LA\n",
        "import cv2 as cv\n",
        "import math"
      ]
    },
    {
      "cell_type": "code",
      "source": [
        "def fm_estimation(f1,f2, nums):\n",
        "\n",
        "  #nums is the indices of points , f1 contains all the points while f2 contains the corresponding points of f1\n",
        "\n",
        "  A = []\n",
        "  f1 = np.array(f1 , dtype = 'float32')\n",
        "  f2 = np.array(f2 , dtype = 'float32')\n",
        "\n",
        "  for iter in range(8):\n",
        "\n",
        "    x = f1[nums[iter]][0]\n",
        "    x_ = f2[nums[iter]][0]\n",
        "    y = f1[nums[iter]][1]\n",
        "    y_ = f2[nums[iter]][1]\n",
        "\n",
        "    temp_row = [x*x_ , x*y_, x , y*x_ ,y*y_ , y , x_ , y_, 1 ]\n",
        "    A.append(temp_row)\n",
        "\n",
        "\n",
        "  A = np.array(A)\n",
        "\n",
        "  A_t = A.T\n",
        "\n",
        "  M = np.matmul(A_t , A)\n",
        "  u, s, vh = np.linalg.svd(M, full_matrices=False)\n",
        "  mc_index = np.argmin(s)\n",
        "  f = vh[mc_index].reshape((3,3))\n",
        "\n",
        "  return f\n"
      ],
      "metadata": {
        "id": "1kJPORy7LBbO"
      },
      "execution_count": null,
      "outputs": []
    },
    {
      "cell_type": "code",
      "source": [
        "def normalize_points(c1, num):\n",
        "\n",
        "  #num is the total number of points in the dataset\n",
        "\n",
        "  sum1 = 0\n",
        "  sum2 = 0\n",
        "  result = []\n",
        "\n",
        "  for i in range(num):\n",
        "\n",
        "    sum1+= c1[i][0]\n",
        "    sum2+= c1[i][1]\n",
        "\n",
        "  cx1 = sum1/num\n",
        "  cy1 = sum2/num\n",
        "\n",
        "\n",
        "  sx1 = np.var(c1 , axis = 0)[0]\n",
        "  sy1 = np.var(c1 , axis = 0)[1]\n",
        "\n",
        "  T1 = np.array([[sx1 , 0 ,0] , [0 , sy1 , 0] , [0,0,1]])\n",
        "  T2 = np.array([[1 , 0 , -cx1] , [0 , 1 , -cy1] , [0 ,0 ,1]])\n",
        "\n",
        "  for i in range(num):\n",
        "\n",
        "    temp = np.matmul(T1 , np.matmul(T2 , np.hstack((c1[i] , 1)).T))\n",
        "    temp = [temp[0] , temp[1]]\n",
        "    result.append(temp)\n",
        "\n",
        "  result = np.array(result)\n",
        "  return result"
      ],
      "metadata": {
        "id": "zOa4LhOMLczH"
      },
      "execution_count": null,
      "outputs": []
    },
    {
      "cell_type": "code",
      "source": [
        "pic1 = [[880 , 214],\n",
        " [43 , 203],\n",
        "[270 , 197],\n",
        "[886  ,347],\n",
        "[745 , 302],\n",
        "[943 , 128],\n",
        "[476 , 590],\n",
        "[419 , 214],\n",
        "[317 , 335],\n",
        "[783 , 521],\n",
        "[235 , 427],\n",
        "[665 , 429],\n",
        "[655 , 362],\n",
        "[427 , 333],\n",
        "[412  ,415],\n",
        "[746  ,351],\n",
        "[434 , 415],\n",
        "[525 , 234],\n",
        "[716 , 308],\n",
        "[602 , 187]]\n",
        "\n",
        "pic1 = np.array(pic1 , dtype = 'float32')\n",
        "\n",
        "pic2 =[[ 731,  238],\n",
        "[22   ,248],\n",
        "[204  ,230],\n",
        "[903  ,342],\n",
        "[635  ,316],\n",
        "[867  ,177],\n",
        "[958  ,572],\n",
        "[328  ,244],\n",
        "[426  ,386],\n",
        "[1064 ,470],\n",
        "[480  ,495],\n",
        "[964  ,419],\n",
        "[695  ,374],\n",
        "[505  ,372],\n",
        "[645  ,452],\n",
        "[692  ,359],\n",
        "[712  ,444],\n",
        "[465  ,263],\n",
        "[591  ,324],\n",
        "[447  ,213]]\n",
        "\n"
      ],
      "metadata": {
        "id": "3q_eCETlJPUd"
      },
      "execution_count": null,
      "outputs": []
    },
    {
      "cell_type": "markdown",
      "source": [
        "# RanSAC"
      ],
      "metadata": {
        "id": "r4ShPp7SCWxd"
      }
    },
    {
      "cell_type": "code",
      "source": [
        "from numpy.random.mtrand import random_integers\n",
        "import random\n",
        "\n",
        "def RANSAC_8 (p, p_):\n",
        "\n",
        "  # p denotes the set of points of one image and p_ is the set of points corresponding to p in the other image\n",
        "\n",
        "  max_inliers = 0\n",
        "  inliers_list = []\n",
        "  final_inliers_list = []\n",
        "\n",
        "  # p = normalize_points(p , len(p))\n",
        "  # p_ = normalize_points(p_ , len(p_))\n",
        "\n",
        "  for it in range(1000): # number of times to run and seek better values of F\n",
        "\n",
        "    inliers = 0\n",
        "\n",
        "    # get 8 points at random\n",
        "    indices = random.sample(range(len(p)), 8)\n",
        "\n",
        "    Fm = fm_estimation(p, p_, indices)\n",
        "\n",
        "    for i in range(len(p)):\n",
        "\n",
        "      # epipolar contraint eqn\n",
        "      Cstr = abs(np.matmul(np.hstack((p_[i], 1)), np.matmul(Fm, np.hstack((p[i], 1)).T)))\n",
        "\n",
        "      if Cstr < 0.05:\n",
        "        inliers += 1\n",
        "        inliers_list.append(i)\n",
        "\n",
        "    if inliers >= max_inliers:\n",
        "      max_inliers = inliers\n",
        "      bestFm = Fm\n",
        "      final_inliers_list = inliers_list\n",
        "\n",
        "    inliers_list = []\n",
        "\n",
        "  return bestFm , final_inliers_list\n"
      ],
      "metadata": {
        "id": "CErsQOHuCgTm"
      },
      "execution_count": null,
      "outputs": []
    },
    {
      "cell_type": "code",
      "source": [
        "ans1 = RANSAC_8(pic1, pic2)\n",
        "ans1"
      ],
      "metadata": {
        "colab": {
          "base_uri": "https://localhost:8080/"
        },
        "id": "ZAIxreSEEsAE",
        "outputId": "69f0c8d0-2097-41c9-e858-f0b59ad3ff3c"
      },
      "execution_count": null,
      "outputs": [
        {
          "output_type": "execute_result",
          "data": {
            "text/plain": [
              "(array([[-3.60740019e-08,  5.42122073e-06, -1.80353276e-03],\n",
              "        [-3.11175950e-06,  6.19494873e-06, -1.35554929e-03],\n",
              "        [ 1.23477655e-03, -4.15396729e-03,  9.99988065e-01]]),\n",
              " [0, 3, 4, 5, 10, 12, 14, 15, 17, 18])"
            ]
          },
          "metadata": {},
          "execution_count": 15
        }
      ]
    },
    {
      "cell_type": "code",
      "source": [
        "\n"
      ],
      "metadata": {
        "id": "rxo96ugHi4ab"
      },
      "execution_count": null,
      "outputs": []
    },
    {
      "cell_type": "code",
      "source": [],
      "metadata": {
        "id": "2SORYf6EAtPS"
      },
      "execution_count": null,
      "outputs": []
    }
  ]
}